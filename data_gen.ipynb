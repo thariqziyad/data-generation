{
  "nbformat": 4,
  "nbformat_minor": 0,
  "metadata": {
    "colab": {
      "provenance": [],
      "authorship_tag": "ABX9TyMP0rLR6DSJ2jWfSJJJNQGE",
      "include_colab_link": true
    },
    "kernelspec": {
      "name": "python3",
      "display_name": "Python 3"
    },
    "language_info": {
      "name": "python"
    }
  },
  "cells": [
    {
      "cell_type": "markdown",
      "metadata": {
        "id": "view-in-github",
        "colab_type": "text"
      },
      "source": [
        "<a href=\"https://colab.research.google.com/github/thariqziyad/data-generation/blob/main/data_gen.ipynb\" target=\"_parent\"><img src=\"https://colab.research.google.com/assets/colab-badge.svg\" alt=\"Open In Colab\"/></a>"
      ]
    },
    {
      "cell_type": "markdown",
      "source": [
        "Importing packages"
      ],
      "metadata": {
        "id": "o13zeJnDA3YR"
      }
    },
    {
      "cell_type": "code",
      "execution_count": 48,
      "metadata": {
        "id": "__jNHh3RAqDd"
      },
      "outputs": [],
      "source": [
        "import pandas as pd\n",
        "import numpy as np\n",
        "from scipy.stats import truncnorm as t_norm"
      ]
    },
    {
      "cell_type": "code",
      "source": [
        "a_trunc = 1\n",
        "b_trunc = 4\n",
        "loc = 3.833\n",
        "scale = 0.3807\n",
        "a, b = (a_trunc - loc) / scale, (b_trunc - loc) / scale\n",
        "\n",
        "random_numbers = t_norm.rvs(a, b, loc=loc, scale=scale,size=200)\n",
        "\n",
        "std_b = np.std(random_numbers)\n",
        "mu_b = np.mean(random_numbers)\n",
        "fin_num = loc + ((random_numbers-mu_b)*scale/std_b)\n",
        "\n",
        "integers = np.round(fin_num).astype(int)\n",
        "\n",
        "fin = integers\n",
        "\n",
        "print(\"Desired Standard Deviation:\", scale)\n",
        "print(\"Actual Standard Deviation of Generated Integers:\", np.std(fin))\n",
        "print(\"Standard Deviation difference:\",abs(np.std(fin)-scale))\n",
        "print(\"Desired Mean:\", loc)\n",
        "print(\"Actual Mean of Generated Integers:\", np.mean(fin))\n",
        "print(\"Mean difference:\",abs(np.mean(fin)-loc))\n",
        "print(fin.max(),fin.min())\n",
        "print(set(fin))\n"
      ],
      "metadata": {
        "colab": {
          "base_uri": "https://localhost:8080/"
        },
        "id": "7MDiTXbmjC4X",
        "outputId": "43e55311-be86-4112-b285-d06c60e3f996"
      },
      "execution_count": 105,
      "outputs": [
        {
          "output_type": "stream",
          "name": "stdout",
          "text": [
            "Desired Standard Deviation: 0.3807\n",
            "Actual Standard Deviation of Generated Integers: 0.39999999999999997\n",
            "Standard Deviation difference: 0.019299999999999984\n",
            "Desired Mean: 3.833\n",
            "Actual Mean of Generated Integers: 3.8\n",
            "Mean difference: 0.03300000000000036\n",
            "4 3\n",
            "{3, 4}\n"
          ]
        }
      ]
    }
  ]
}